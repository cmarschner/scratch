{
  "nbformat": 4,
  "nbformat_minor": 0,
  "metadata": {
    "colab": {
      "name": "timeseries.ipynb",
      "provenance": [],
      "include_colab_link": true
    },
    "kernelspec": {
      "name": "python3",
      "display_name": "Python 3"
    },
    "accelerator": "GPU"
  },
  "cells": [
    {
      "cell_type": "markdown",
      "metadata": {
        "id": "view-in-github",
        "colab_type": "text"
      },
      "source": [
        "<a href=\"https://colab.research.google.com/github/cmarschner/scratch/blob/master/timeseries.ipynb\" target=\"_parent\"><img src=\"https://colab.research.google.com/assets/colab-badge.svg\" alt=\"Open In Colab\"/></a>"
      ]
    },
    {
      "cell_type": "code",
      "metadata": {
        "id": "5iw2icwhB1kW",
        "colab_type": "code",
        "colab": {}
      },
      "source": [
        "from pathlib import Path\n",
        "import requests\n",
        "import torch\n",
        "from torch.utils.data import TensorDataset\n",
        "from torch.utils.data import DataLoader\n",
        "import torch.nn.functional as F\n",
        "from torch import nn\n",
        "from torch import optim\n",
        "from matplotlib import pyplot\n",
        "import numpy as np\n",
        "from typing import List\n",
        "from sklearn.preprocessing import MinMaxScaler"
      ],
      "execution_count": 0,
      "outputs": []
    },
    {
      "cell_type": "code",
      "metadata": {
        "id": "33wQgUhmCCcS",
        "colab_type": "code",
        "colab": {}
      },
      "source": [
        "DATA_PATH = Path(\"data\")\n",
        "PATH = DATA_PATH / \"beijing-air-quality\"\n",
        "\n",
        "PATH.mkdir(parents=True, exist_ok=True)\n",
        "# https://archive.ics.uci.edu/ml/datasets/Beijing+Multi-Site+Air-Quality+Data/\n",
        "URL = \"https://archive.ics.uci.edu/ml/machine-learning-databases/00501/\"\n",
        "FILENAME = \"PRSA2017_Data_20130301-20170228.zip\"\n",
        "\n",
        "if not (PATH / FILENAME).exists():\n",
        "    content = requests.get(URL + FILENAME).content\n",
        "    (PATH / FILENAME).open(\"wb\").write(content)"
      ],
      "execution_count": 0,
      "outputs": []
    },
    {
      "cell_type": "code",
      "metadata": {
        "id": "8wut2AUJCJ0Y",
        "colab_type": "code",
        "outputId": "4109422f-898e-4cfb-e4f8-2c2c44f26f18",
        "colab": {
          "base_uri": "https://localhost:8080/",
          "height": 255
        }
      },
      "source": [
        "!unzip -o {PATH}/{FILENAME} -d {PATH} "
      ],
      "execution_count": 0,
      "outputs": [
        {
          "output_type": "stream",
          "text": [
            "Archive:  data/beijing-air-quality/PRSA2017_Data_20130301-20170228.zip\n",
            "   creating: data/beijing-air-quality/PRSA_Data_20130301-20170228/\n",
            "  inflating: data/beijing-air-quality/PRSA_Data_20130301-20170228/PRSA_Data_Aotizhongxin_20130301-20170228.csv  \n",
            "  inflating: data/beijing-air-quality/PRSA_Data_20130301-20170228/PRSA_Data_Changping_20130301-20170228.csv  \n",
            "  inflating: data/beijing-air-quality/PRSA_Data_20130301-20170228/PRSA_Data_Dingling_20130301-20170228.csv  \n",
            "  inflating: data/beijing-air-quality/PRSA_Data_20130301-20170228/PRSA_Data_Dongsi_20130301-20170228.csv  \n",
            "  inflating: data/beijing-air-quality/PRSA_Data_20130301-20170228/PRSA_Data_Guanyuan_20130301-20170228.csv  \n",
            "  inflating: data/beijing-air-quality/PRSA_Data_20130301-20170228/PRSA_Data_Gucheng_20130301-20170228.csv  \n",
            "  inflating: data/beijing-air-quality/PRSA_Data_20130301-20170228/PRSA_Data_Huairou_20130301-20170228.csv  \n",
            "  inflating: data/beijing-air-quality/PRSA_Data_20130301-20170228/PRSA_Data_Nongzhanguan_20130301-20170228.csv  \n",
            "  inflating: data/beijing-air-quality/PRSA_Data_20130301-20170228/PRSA_Data_Shunyi_20130301-20170228.csv  \n",
            "  inflating: data/beijing-air-quality/PRSA_Data_20130301-20170228/PRSA_Data_Tiantan_20130301-20170228.csv  \n",
            "  inflating: data/beijing-air-quality/PRSA_Data_20130301-20170228/PRSA_Data_Wanliu_20130301-20170228.csv  \n",
            "  inflating: data/beijing-air-quality/PRSA_Data_20130301-20170228/PRSA_Data_Wanshouxigong_20130301-20170228.csv  \n"
          ],
          "name": "stdout"
        }
      ]
    },
    {
      "cell_type": "code",
      "metadata": {
        "id": "v2JHPkyUCM7E",
        "colab_type": "code",
        "colab": {}
      },
      "source": [
        "SUBDIR = PATH / \"PRSA_Data_20130301-20170228\"\n",
        "files = [\"PRSA_Data_Changping_20130301-20170228.csv\", \"PRSA_Data_Aotizhongxin_20130301-20170228.csv\"]\n",
        "import gzip\n",
        "import pandas as pd\n",
        "\n",
        "df = pd.read_csv(SUBDIR / files[0])"
      ],
      "execution_count": 0,
      "outputs": []
    },
    {
      "cell_type": "code",
      "metadata": {
        "id": "qR0Hp11ECPwg",
        "colab_type": "code",
        "outputId": "a63cb6ec-0675-4dd0-e639-9557c87bc0e0",
        "colab": {
          "base_uri": "https://localhost:8080/",
          "height": 34
        }
      },
      "source": [
        "len(df)"
      ],
      "execution_count": 0,
      "outputs": [
        {
          "output_type": "execute_result",
          "data": {
            "text/plain": [
              "35064"
            ]
          },
          "metadata": {
            "tags": []
          },
          "execution_count": 5
        }
      ]
    },
    {
      "cell_type": "code",
      "metadata": {
        "id": "WMcAb8-qCRiN",
        "colab_type": "code",
        "outputId": "4f0d5ad7-b56d-4c0a-f35c-fa6610e8e329",
        "colab": {
          "base_uri": "https://localhost:8080/",
          "height": 419
        }
      },
      "source": [
        "df"
      ],
      "execution_count": 0,
      "outputs": [
        {
          "output_type": "execute_result",
          "data": {
            "text/html": [
              "<div>\n",
              "<style scoped>\n",
              "    .dataframe tbody tr th:only-of-type {\n",
              "        vertical-align: middle;\n",
              "    }\n",
              "\n",
              "    .dataframe tbody tr th {\n",
              "        vertical-align: top;\n",
              "    }\n",
              "\n",
              "    .dataframe thead th {\n",
              "        text-align: right;\n",
              "    }\n",
              "</style>\n",
              "<table border=\"1\" class=\"dataframe\">\n",
              "  <thead>\n",
              "    <tr style=\"text-align: right;\">\n",
              "      <th></th>\n",
              "      <th>No</th>\n",
              "      <th>year</th>\n",
              "      <th>month</th>\n",
              "      <th>day</th>\n",
              "      <th>hour</th>\n",
              "      <th>PM2.5</th>\n",
              "      <th>PM10</th>\n",
              "      <th>SO2</th>\n",
              "      <th>NO2</th>\n",
              "      <th>CO</th>\n",
              "      <th>O3</th>\n",
              "      <th>TEMP</th>\n",
              "      <th>PRES</th>\n",
              "      <th>DEWP</th>\n",
              "      <th>RAIN</th>\n",
              "      <th>wd</th>\n",
              "      <th>WSPM</th>\n",
              "      <th>station</th>\n",
              "    </tr>\n",
              "  </thead>\n",
              "  <tbody>\n",
              "    <tr>\n",
              "      <th>0</th>\n",
              "      <td>1</td>\n",
              "      <td>2013</td>\n",
              "      <td>3</td>\n",
              "      <td>1</td>\n",
              "      <td>0</td>\n",
              "      <td>3.0</td>\n",
              "      <td>6.0</td>\n",
              "      <td>13.0</td>\n",
              "      <td>7.0</td>\n",
              "      <td>300.0</td>\n",
              "      <td>85.0</td>\n",
              "      <td>-2.3</td>\n",
              "      <td>1020.8</td>\n",
              "      <td>-19.7</td>\n",
              "      <td>0.0</td>\n",
              "      <td>E</td>\n",
              "      <td>0.5</td>\n",
              "      <td>Changping</td>\n",
              "    </tr>\n",
              "    <tr>\n",
              "      <th>1</th>\n",
              "      <td>2</td>\n",
              "      <td>2013</td>\n",
              "      <td>3</td>\n",
              "      <td>1</td>\n",
              "      <td>1</td>\n",
              "      <td>3.0</td>\n",
              "      <td>3.0</td>\n",
              "      <td>6.0</td>\n",
              "      <td>6.0</td>\n",
              "      <td>300.0</td>\n",
              "      <td>85.0</td>\n",
              "      <td>-2.5</td>\n",
              "      <td>1021.3</td>\n",
              "      <td>-19.0</td>\n",
              "      <td>0.0</td>\n",
              "      <td>ENE</td>\n",
              "      <td>0.7</td>\n",
              "      <td>Changping</td>\n",
              "    </tr>\n",
              "    <tr>\n",
              "      <th>2</th>\n",
              "      <td>3</td>\n",
              "      <td>2013</td>\n",
              "      <td>3</td>\n",
              "      <td>1</td>\n",
              "      <td>2</td>\n",
              "      <td>3.0</td>\n",
              "      <td>3.0</td>\n",
              "      <td>22.0</td>\n",
              "      <td>13.0</td>\n",
              "      <td>400.0</td>\n",
              "      <td>74.0</td>\n",
              "      <td>-3.0</td>\n",
              "      <td>1021.3</td>\n",
              "      <td>-19.9</td>\n",
              "      <td>0.0</td>\n",
              "      <td>ENE</td>\n",
              "      <td>0.2</td>\n",
              "      <td>Changping</td>\n",
              "    </tr>\n",
              "    <tr>\n",
              "      <th>3</th>\n",
              "      <td>4</td>\n",
              "      <td>2013</td>\n",
              "      <td>3</td>\n",
              "      <td>1</td>\n",
              "      <td>3</td>\n",
              "      <td>3.0</td>\n",
              "      <td>6.0</td>\n",
              "      <td>12.0</td>\n",
              "      <td>8.0</td>\n",
              "      <td>300.0</td>\n",
              "      <td>81.0</td>\n",
              "      <td>-3.6</td>\n",
              "      <td>1021.8</td>\n",
              "      <td>-19.1</td>\n",
              "      <td>0.0</td>\n",
              "      <td>NNE</td>\n",
              "      <td>1.0</td>\n",
              "      <td>Changping</td>\n",
              "    </tr>\n",
              "    <tr>\n",
              "      <th>4</th>\n",
              "      <td>5</td>\n",
              "      <td>2013</td>\n",
              "      <td>3</td>\n",
              "      <td>1</td>\n",
              "      <td>4</td>\n",
              "      <td>3.0</td>\n",
              "      <td>3.0</td>\n",
              "      <td>14.0</td>\n",
              "      <td>8.0</td>\n",
              "      <td>300.0</td>\n",
              "      <td>81.0</td>\n",
              "      <td>-3.5</td>\n",
              "      <td>1022.3</td>\n",
              "      <td>-19.4</td>\n",
              "      <td>0.0</td>\n",
              "      <td>N</td>\n",
              "      <td>2.1</td>\n",
              "      <td>Changping</td>\n",
              "    </tr>\n",
              "    <tr>\n",
              "      <th>...</th>\n",
              "      <td>...</td>\n",
              "      <td>...</td>\n",
              "      <td>...</td>\n",
              "      <td>...</td>\n",
              "      <td>...</td>\n",
              "      <td>...</td>\n",
              "      <td>...</td>\n",
              "      <td>...</td>\n",
              "      <td>...</td>\n",
              "      <td>...</td>\n",
              "      <td>...</td>\n",
              "      <td>...</td>\n",
              "      <td>...</td>\n",
              "      <td>...</td>\n",
              "      <td>...</td>\n",
              "      <td>...</td>\n",
              "      <td>...</td>\n",
              "      <td>...</td>\n",
              "    </tr>\n",
              "    <tr>\n",
              "      <th>35059</th>\n",
              "      <td>35060</td>\n",
              "      <td>2017</td>\n",
              "      <td>2</td>\n",
              "      <td>28</td>\n",
              "      <td>19</td>\n",
              "      <td>28.0</td>\n",
              "      <td>47.0</td>\n",
              "      <td>4.0</td>\n",
              "      <td>14.0</td>\n",
              "      <td>300.0</td>\n",
              "      <td>NaN</td>\n",
              "      <td>11.7</td>\n",
              "      <td>1008.9</td>\n",
              "      <td>-13.3</td>\n",
              "      <td>0.0</td>\n",
              "      <td>NNE</td>\n",
              "      <td>1.3</td>\n",
              "      <td>Changping</td>\n",
              "    </tr>\n",
              "    <tr>\n",
              "      <th>35060</th>\n",
              "      <td>35061</td>\n",
              "      <td>2017</td>\n",
              "      <td>2</td>\n",
              "      <td>28</td>\n",
              "      <td>20</td>\n",
              "      <td>12.0</td>\n",
              "      <td>12.0</td>\n",
              "      <td>3.0</td>\n",
              "      <td>23.0</td>\n",
              "      <td>500.0</td>\n",
              "      <td>64.0</td>\n",
              "      <td>10.9</td>\n",
              "      <td>1009.0</td>\n",
              "      <td>-14.0</td>\n",
              "      <td>0.0</td>\n",
              "      <td>N</td>\n",
              "      <td>2.1</td>\n",
              "      <td>Changping</td>\n",
              "    </tr>\n",
              "    <tr>\n",
              "      <th>35061</th>\n",
              "      <td>35062</td>\n",
              "      <td>2017</td>\n",
              "      <td>2</td>\n",
              "      <td>28</td>\n",
              "      <td>21</td>\n",
              "      <td>7.0</td>\n",
              "      <td>23.0</td>\n",
              "      <td>5.0</td>\n",
              "      <td>17.0</td>\n",
              "      <td>500.0</td>\n",
              "      <td>68.0</td>\n",
              "      <td>9.5</td>\n",
              "      <td>1009.4</td>\n",
              "      <td>-13.0</td>\n",
              "      <td>0.0</td>\n",
              "      <td>N</td>\n",
              "      <td>1.5</td>\n",
              "      <td>Changping</td>\n",
              "    </tr>\n",
              "    <tr>\n",
              "      <th>35062</th>\n",
              "      <td>35063</td>\n",
              "      <td>2017</td>\n",
              "      <td>2</td>\n",
              "      <td>28</td>\n",
              "      <td>22</td>\n",
              "      <td>11.0</td>\n",
              "      <td>20.0</td>\n",
              "      <td>3.0</td>\n",
              "      <td>15.0</td>\n",
              "      <td>500.0</td>\n",
              "      <td>72.0</td>\n",
              "      <td>7.8</td>\n",
              "      <td>1009.6</td>\n",
              "      <td>-12.6</td>\n",
              "      <td>0.0</td>\n",
              "      <td>NW</td>\n",
              "      <td>1.4</td>\n",
              "      <td>Changping</td>\n",
              "    </tr>\n",
              "    <tr>\n",
              "      <th>35063</th>\n",
              "      <td>35064</td>\n",
              "      <td>2017</td>\n",
              "      <td>2</td>\n",
              "      <td>28</td>\n",
              "      <td>23</td>\n",
              "      <td>20.0</td>\n",
              "      <td>25.0</td>\n",
              "      <td>6.0</td>\n",
              "      <td>28.0</td>\n",
              "      <td>900.0</td>\n",
              "      <td>54.0</td>\n",
              "      <td>7.0</td>\n",
              "      <td>1009.4</td>\n",
              "      <td>-12.2</td>\n",
              "      <td>0.0</td>\n",
              "      <td>N</td>\n",
              "      <td>1.9</td>\n",
              "      <td>Changping</td>\n",
              "    </tr>\n",
              "  </tbody>\n",
              "</table>\n",
              "<p>35064 rows × 18 columns</p>\n",
              "</div>"
            ],
            "text/plain": [
              "          No  year  month  day  hour  ...  DEWP  RAIN   wd  WSPM    station\n",
              "0          1  2013      3    1     0  ... -19.7   0.0    E   0.5  Changping\n",
              "1          2  2013      3    1     1  ... -19.0   0.0  ENE   0.7  Changping\n",
              "2          3  2013      3    1     2  ... -19.9   0.0  ENE   0.2  Changping\n",
              "3          4  2013      3    1     3  ... -19.1   0.0  NNE   1.0  Changping\n",
              "4          5  2013      3    1     4  ... -19.4   0.0    N   2.1  Changping\n",
              "...      ...   ...    ...  ...   ...  ...   ...   ...  ...   ...        ...\n",
              "35059  35060  2017      2   28    19  ... -13.3   0.0  NNE   1.3  Changping\n",
              "35060  35061  2017      2   28    20  ... -14.0   0.0    N   2.1  Changping\n",
              "35061  35062  2017      2   28    21  ... -13.0   0.0    N   1.5  Changping\n",
              "35062  35063  2017      2   28    22  ... -12.6   0.0   NW   1.4  Changping\n",
              "35063  35064  2017      2   28    23  ... -12.2   0.0    N   1.9  Changping\n",
              "\n",
              "[35064 rows x 18 columns]"
            ]
          },
          "metadata": {
            "tags": []
          },
          "execution_count": 6
        }
      ]
    },
    {
      "cell_type": "code",
      "metadata": {
        "id": "-LMhpqxKCTQs",
        "colab_type": "code",
        "outputId": "cdb23a97-8366-4735-9256-dc8586240d82",
        "colab": {
          "base_uri": "https://localhost:8080/",
          "height": 119
        }
      },
      "source": [
        "dd = df[0:3][[\"PM2.5\",\"PM10\", \"NO2\", \"CO\", \"O3\", \"TEMP\", \"PRES\", \"DEWP\", \"RAIN\", \"WSPM\"]].to_numpy()\n",
        "dd"
      ],
      "execution_count": 0,
      "outputs": [
        {
          "output_type": "execute_result",
          "data": {
            "text/plain": [
              "array([[ 3.0000e+00,  6.0000e+00,  7.0000e+00,  3.0000e+02,  8.5000e+01,\n",
              "        -2.3000e+00,  1.0208e+03, -1.9700e+01,  0.0000e+00,  5.0000e-01],\n",
              "       [ 3.0000e+00,  3.0000e+00,  6.0000e+00,  3.0000e+02,  8.5000e+01,\n",
              "        -2.5000e+00,  1.0213e+03, -1.9000e+01,  0.0000e+00,  7.0000e-01],\n",
              "       [ 3.0000e+00,  3.0000e+00,  1.3000e+01,  4.0000e+02,  7.4000e+01,\n",
              "        -3.0000e+00,  1.0213e+03, -1.9900e+01,  0.0000e+00,  2.0000e-01]])"
            ]
          },
          "metadata": {
            "tags": []
          },
          "execution_count": 7
        }
      ]
    },
    {
      "cell_type": "code",
      "metadata": {
        "id": "z2wZ32lpCWNR",
        "colab_type": "code",
        "colab": {}
      },
      "source": [
        "dev = torch.device(\n",
        "    \"cuda\") if torch.cuda.is_available() else torch.device(\"cpu\")"
      ],
      "execution_count": 0,
      "outputs": []
    },
    {
      "cell_type": "code",
      "metadata": {
        "id": "ec6ajYuBCeBI",
        "colab_type": "code",
        "outputId": "29e6d5a3-fdc9-43e1-8b64-8b4b43a6338d",
        "colab": {
          "base_uri": "https://localhost:8080/",
          "height": 34
        }
      },
      "source": [
        "dev"
      ],
      "execution_count": 0,
      "outputs": [
        {
          "output_type": "execute_result",
          "data": {
            "text/plain": [
              "device(type='cuda')"
            ]
          },
          "metadata": {
            "tags": []
          },
          "execution_count": 9
        }
      ]
    },
    {
      "cell_type": "code",
      "metadata": {
        "id": "9OzioausCfda",
        "colab_type": "code",
        "colab": {}
      },
      "source": [
        "from IPython.core.debugger import set_trace\n",
        "\n",
        "mms = MinMaxScaler(feature_range=(-1,1))\n",
        "mmsy = MinMaxScaler(feature_range=(-1,1))\n",
        "\n",
        "class SequenceDataset(torch.utils.data.Dataset):\n",
        "    \"\"\"Dataset for time series prediction - cut out n elements and predict n+1.\n",
        "\n",
        "    Arguments:\n",
        "        filenames: csvs to read from\n",
        "        x_cols: columns to use from the csv for training\n",
        "        y_cols: columns for prediction\n",
        "        seq_len: number of elements per sequence\n",
        "        \n",
        "    \"\"\"\n",
        "    def __init__(self, filenames: List[str], x_cols: List[str], y_cols: List[str], seq_len: int, is_test=False):\n",
        "        print(\"reading ds...\")\n",
        "        self.df = pd.concat(pd.read_csv(filename) for filename in filenames)\n",
        "        print(\"done...\")\n",
        "        self.df = self.df[list(set(x_cols) | set(y_cols))]  # only columns we are interested in\n",
        "        all_lines = len(self.df)\n",
        "        # Drop NaNs. Not ideal but right now the easiest way to get something trained.\n",
        "        self.df = self.df[~np.isnan(self.df).any(axis=1)]\n",
        "        print(\"Keeping only %d out of %d lines due to NaN entries\" % (len(self.df), all_lines))\n",
        "        self.x_cols = x_cols\n",
        "        self.y_cols = y_cols\n",
        "        self.seq_len = seq_len\n",
        "        \n",
        "        if not is_test:\n",
        "            mms.fit(self.df[self.x_cols])\n",
        "            mmsy.fit(self.df[self.y_cols])\n",
        "        \n",
        "    def __getitem__(self, index):\n",
        "        # According to https://pytorch.org/docs/stable/data.html, don't put it on GPU yet.\n",
        "        x = self.df[index:index + self.seq_len][self.x_cols].to_numpy(dtype=np.float32)\n",
        "        y = self.df[index + self.seq_len:index + self.seq_len + 1][self.y_cols].to_numpy(dtype=np.float32)\n",
        "        x = mms.transform(x)\n",
        "        y = mmsy.transform(y)\n",
        "        return (torch.tensor(x), torch.tensor(y))\n",
        "\n",
        "    def __len__(self):\n",
        "        return len(self.df) - self.seq_len - 1\n"
      ],
      "execution_count": 0,
      "outputs": []
    },
    {
      "cell_type": "code",
      "metadata": {
        "id": "p_emkV-sCjGf",
        "colab_type": "code",
        "outputId": "efa53206-bb33-4aae-e0cd-d2a8cecf93d7",
        "colab": {
          "base_uri": "https://localhost:8080/",
          "height": 68
        }
      },
      "source": [
        "full_ds = SequenceDataset([SUBDIR / x for x in files], \n",
        "                          x_cols=[\"PM2.5\",\"PM10\", \"NO2\", \"CO\", \"O3\", \"TEMP\", \"PRES\", \"DEWP\", \"RAIN\", \"WSPM\"], \n",
        "                          y_cols=[\"TEMP\"],\n",
        "                          seq_len=5)"
      ],
      "execution_count": 0,
      "outputs": [
        {
          "output_type": "stream",
          "text": [
            "reading ds...\n",
            "done...\n",
            "Keeping only 64886 out of 70128 lines due to NaN entries\n"
          ],
          "name": "stdout"
        }
      ]
    },
    {
      "cell_type": "code",
      "metadata": {
        "id": "-BsroJkgClP-",
        "colab_type": "code",
        "colab": {}
      },
      "source": [
        "train_ds, valid_ds = torch.utils.data.random_split(full_ds, [round(0.8 * len(full_ds)), round(0.2 * len(full_ds))])"
      ],
      "execution_count": 0,
      "outputs": []
    },
    {
      "cell_type": "code",
      "metadata": {
        "id": "htFAHVNICn1S",
        "colab_type": "code",
        "outputId": "0f480366-415f-49f1-a108-dbf77c46b4bc",
        "colab": {
          "base_uri": "https://localhost:8080/",
          "height": 34
        }
      },
      "source": [
        "print(len(train_ds), len(valid_ds))"
      ],
      "execution_count": 0,
      "outputs": [
        {
          "output_type": "stream",
          "text": [
            "51904 12976\n"
          ],
          "name": "stdout"
        }
      ]
    },
    {
      "cell_type": "code",
      "metadata": {
        "id": "qIa9oU09CpoF",
        "colab_type": "code",
        "colab": {}
      },
      "source": [
        "def get_data(train_ds, bs):\n",
        "    return (\n",
        "        DataLoader(train_ds, batch_size=bs, shuffle=True),\n",
        "        DataLoader(valid_ds, batch_size=bs * 2),\n",
        "    )"
      ],
      "execution_count": 0,
      "outputs": []
    },
    {
      "cell_type": "code",
      "metadata": {
        "id": "qCyCNMCTCrc8",
        "colab_type": "code",
        "colab": {}
      },
      "source": [
        "def preprocess(x, y):\n",
        "    # print(\"to cuda\")\n",
        "    xp, yp = x.to(dev), y.to(dev)\n",
        "    return xp, yp"
      ],
      "execution_count": 0,
      "outputs": []
    },
    {
      "cell_type": "code",
      "metadata": {
        "id": "pZMxU-YmCtHd",
        "colab_type": "code",
        "colab": {}
      },
      "source": [
        "class SeqModel(nn.Module):\n",
        "    \"\"\"\"\"\"\n",
        "    def __init__(self, input_size, lstm_cell_size, linear_size, output_size):\n",
        "        super(SeqModel, self).__init__()\n",
        "        self.lstm = nn.LSTM(input_size, lstm_cell_size, batch_first=True)\n",
        "        self.lin = nn.Linear(lstm_cell_size, linear_size)\n",
        "        self.lin2 = nn.Linear(linear_size, output_size)\n",
        "        \n",
        "    def forward(self, x):\n",
        "        lstm_out, _ = self.lstm(x.clamp(-1, 1))\n",
        "        last_lstm = lstm_out[:, -1, :]\n",
        "        lin1_out = self.lin(last_lstm) # .sigmoid()\n",
        "        line2_out = self.lin2(lin1_out)\n",
        "        return line2_out"
      ],
      "execution_count": 0,
      "outputs": []
    },
    {
      "cell_type": "code",
      "metadata": {
        "id": "RVzmUsAsCuR2",
        "colab_type": "code",
        "colab": {}
      },
      "source": [
        "model_name = \"airq-lstm\""
      ],
      "execution_count": 0,
      "outputs": []
    },
    {
      "cell_type": "code",
      "metadata": {
        "id": "pCRLtxWBCwLq",
        "colab_type": "code",
        "colab": {}
      },
      "source": [
        "bs = 64  # batch size\n",
        "epochs = 10  # how many epochs to train for\n",
        "\n",
        "model = SeqModel(input_size = len(full_ds.x_cols), lstm_cell_size=50, linear_size=50, output_size=1)\n",
        "model.to(dev)\n",
        "loss_func = nn.MSELoss(reduction='sum')\n",
        "opt = optim.SGD(model.parameters(), lr=0.0001, momentum=0.9)"
      ],
      "execution_count": 0,
      "outputs": []
    },
    {
      "cell_type": "code",
      "metadata": {
        "id": "nLXzjExWCxhw",
        "colab_type": "code",
        "colab": {}
      },
      "source": [
        "def loss_batch(model, loss_func, xb, yb, opt=None):\n",
        "    fwd = model(xb)\n",
        "    loss = loss_func(fwd.squeeze(), yb.squeeze())\n",
        "    if torch.isnan(loss).any():\n",
        "        print(\"NAN!\")\n",
        "        print(xb)\n",
        "        raise RuntimeError()\n",
        "    if opt is not None:\n",
        "        loss.backward()\n",
        "        opt.step()\n",
        "        opt.zero_grad()\n",
        "\n",
        "    return loss.item(), len(xb)"
      ],
      "execution_count": 0,
      "outputs": []
    },
    {
      "cell_type": "code",
      "metadata": {
        "id": "372VwQtkCzDL",
        "colab_type": "code",
        "colab": {}
      },
      "source": [
        "from tqdm import tqdm\n",
        "\n",
        "def fit(epochs, model, loss_func, opt, train_dl, valid_dl):\n",
        "    for epoch in tqdm(range(epochs), desc=\"epoch\",  total=epochs):\n",
        "        model.train()\n",
        "        train_losses = []\n",
        "        lengths = []\n",
        "        for i, (xb, yb) in tqdm(enumerate(train_dl), desc=\"train\", total=len(train_dl), mininterval=5, miniters=100):\n",
        "            assert type(xb) == torch.Tensor and type(yb) == torch.Tensor\n",
        "            loss, lens = loss_batch(model, loss_func, xb, yb, opt)\n",
        "            train_losses.append(loss)\n",
        "            lengths.append(lens)\n",
        "        train_loss = np.sum(np.multiply(train_losses, lengths)) / np.sum(lengths)\n",
        "        model.eval()\n",
        "        with torch.no_grad():\n",
        "            losses, nums = zip(\n",
        "                *[loss_batch(model, loss_func, xb, yb) for xb, yb in tqdm(valid_dl, desc=\"valid\", total=len(valid_dl), mininterval=5, miniters=100)]\n",
        "            )\n",
        "        val_loss = np.sum(np.multiply(losses, nums)) / np.sum(nums)\n",
        "        print(\"epoch %d  train_loss %f val_loss %f\" % (epoch, train_loss, val_loss))\n",
        "        \n",
        "        torch.save(model.state_dict(), \"model.%s.%d.pl\" % (model_name, epoch))"
      ],
      "execution_count": 0,
      "outputs": []
    },
    {
      "cell_type": "code",
      "metadata": {
        "id": "ip0Xd3wvC04f",
        "colab_type": "code",
        "colab": {}
      },
      "source": [
        "class WrappedDataLoader:\n",
        "    \"\"\"Applies func to every batch coming from the data loader.\"\"\"\n",
        "    def __init__(self, dl, func):\n",
        "        self.dl = dl\n",
        "        self.func = func\n",
        "\n",
        "    def __len__(self):\n",
        "        return len(self.dl)\n",
        "\n",
        "    def __iter__(self):\n",
        "        batches = iter(self.dl)\n",
        "        for b in batches:\n",
        "            ret = (self.func(*b))\n",
        "            yield ret"
      ],
      "execution_count": 0,
      "outputs": []
    },
    {
      "cell_type": "code",
      "metadata": {
        "id": "7QVSBfsbC4RJ",
        "colab_type": "code",
        "colab": {}
      },
      "source": [
        "(train_dl, valid_dl) = get_data(train_ds, bs)"
      ],
      "execution_count": 0,
      "outputs": []
    },
    {
      "cell_type": "code",
      "metadata": {
        "id": "7TI6DSuMC_JM",
        "colab_type": "code",
        "colab": {}
      },
      "source": [
        "train_dl = WrappedDataLoader(train_dl, preprocess)\n",
        "valid_dl = WrappedDataLoader(valid_dl, preprocess)"
      ],
      "execution_count": 0,
      "outputs": []
    },
    {
      "cell_type": "code",
      "metadata": {
        "id": "VzbdwLa1DCnY",
        "colab_type": "code",
        "colab": {}
      },
      "source": [
        ""
      ],
      "execution_count": 0,
      "outputs": []
    },
    {
      "cell_type": "code",
      "metadata": {
        "id": "lMiDVJOeDBGW",
        "colab_type": "code",
        "outputId": "10f8d06d-c36a-48ef-b529-3180d9e42382",
        "colab": {
          "base_uri": "https://localhost:8080/",
          "height": 1000
        }
      },
      "source": [
        "fit(epochs, model, loss_func, opt, train_dl, valid_dl)"
      ],
      "execution_count": 0,
      "outputs": [
        {
          "output_type": "stream",
          "text": [
            "epoch:   0%|          | 0/10 [00:00<?, ?it/s]\n",
            "train:   0%|          | 0/811 [00:00<?, ?it/s]\u001b[A\n",
            "train:  12%|█▏        | 100/811 [00:10<01:16,  9.30it/s]\u001b[A\n",
            "train:  25%|██▍       | 200/811 [00:21<01:05,  9.31it/s]\u001b[A\n",
            "train:  37%|███▋      | 300/811 [00:32<00:54,  9.33it/s]\u001b[A\n",
            "train:  49%|████▉     | 400/811 [00:42<00:44,  9.34it/s]\u001b[A\n",
            "train:  62%|██████▏   | 500/811 [00:53<00:33,  9.37it/s]\u001b[A\n",
            "train:  74%|███████▍  | 600/811 [01:04<00:22,  9.37it/s]\u001b[A\n",
            "train:  86%|████████▋ | 700/811 [01:14<00:11,  9.36it/s]\u001b[A\n",
            "train:  99%|█████████▊| 800/811 [01:25<00:01,  9.39it/s]\u001b[A\n",
            "train: 100%|██████████| 811/811 [01:26<00:00,  9.37it/s]\u001b[A\n",
            "valid:   0%|          | 0/102 [00:00<?, ?it/s]\u001b[A\n",
            "valid:   0%|          | 0/102 [00:13<?, ?it/s]\u001b[A\n",
            "valid:  65%|██████▍   | 66/102 [00:13<00:07,  4.84it/s]\u001b[A\n",
            "valid:  88%|████████▊ | 90/102 [00:18<00:02,  4.82it/s]\u001b[A\n",
            "epoch:  10%|█         | 1/10 [01:47<16:08, 107.65s/it]\n",
            "train:   0%|          | 0/811 [00:00<?, ?it/s]\u001b[A"
          ],
          "name": "stderr"
        },
        {
          "output_type": "stream",
          "text": [
            "epoch 0  train_loss 1.420674 val_loss 0.961226\n"
          ],
          "name": "stdout"
        },
        {
          "output_type": "stream",
          "text": [
            "\n",
            "train:  12%|█▏        | 100/811 [00:10<01:15,  9.42it/s]\u001b[A\n",
            "train:  25%|██▍       | 200/811 [00:21<01:04,  9.41it/s]\u001b[A\n",
            "train:  37%|███▋      | 300/811 [00:31<00:54,  9.39it/s]\u001b[A\n",
            "train:  37%|███▋      | 300/811 [00:42<00:54,  9.39it/s]\u001b[A\n",
            "train:  49%|████▉     | 398/811 [00:42<00:44,  9.37it/s]\u001b[A\n",
            "train:  55%|█████▍    | 446/811 [00:47<00:38,  9.40it/s]\u001b[A\n",
            "train:  61%|██████    | 494/811 [00:52<00:33,  9.41it/s]\u001b[A\n",
            "train:  67%|██████▋   | 540/811 [00:57<00:29,  9.33it/s]\u001b[A\n",
            "train:  73%|███████▎  | 588/811 [01:02<00:23,  9.39it/s]\u001b[A\n",
            "train:  78%|███████▊  | 636/811 [01:07<00:18,  9.41it/s]\u001b[A\n",
            "train:  84%|████████▍ | 683/811 [01:12<00:13,  9.41it/s]\u001b[A\n",
            "train:  90%|█████████ | 731/811 [01:17<00:08,  9.45it/s]\u001b[A\n",
            "train:  96%|█████████▌| 779/811 [01:22<00:03,  9.46it/s]\u001b[A\n",
            "train: 100%|██████████| 811/811 [01:26<00:00,  9.39it/s]\u001b[A\n",
            "valid:   0%|          | 0/102 [00:00<?, ?it/s]\u001b[A\n",
            "valid:   0%|          | 0/102 [00:16<?, ?it/s]\u001b[A\n",
            "valid:  77%|███████▋  | 79/102 [00:16<00:04,  4.85it/s]\u001b[A\n",
            "epoch:  20%|██        | 2/10 [03:34<14:20, 107.51s/it]\n",
            "train:   0%|          | 0/811 [00:00<?, ?it/s]\u001b[A"
          ],
          "name": "stderr"
        },
        {
          "output_type": "stream",
          "text": [
            "epoch 1  train_loss 0.361901 val_loss 0.574774\n"
          ],
          "name": "stdout"
        },
        {
          "output_type": "stream",
          "text": [
            "\n",
            "train:  12%|█▏        | 100/811 [00:10<01:15,  9.41it/s]\u001b[A\n",
            "train:  25%|██▍       | 200/811 [00:21<01:04,  9.42it/s]\u001b[A\n",
            "train:  37%|███▋      | 300/811 [00:31<00:54,  9.45it/s]\u001b[A\n",
            "train:  49%|████▉     | 400/811 [00:42<00:43,  9.44it/s]\u001b[A\n",
            "train:  62%|██████▏   | 500/811 [00:53<00:33,  9.41it/s]\u001b[A\n",
            "train:  74%|███████▍  | 600/811 [01:03<00:22,  9.44it/s]\u001b[A\n",
            "train:  86%|████████▋ | 700/811 [01:14<00:11,  9.44it/s]\u001b[A\n",
            "train:  99%|█████████▊| 800/811 [01:24<00:01,  9.47it/s]\u001b[A\n",
            "train: 100%|██████████| 811/811 [01:25<00:00,  9.45it/s]\u001b[A\n",
            "valid:   0%|          | 0/102 [00:00<?, ?it/s]\u001b[A\n",
            "valid:   0%|          | 0/102 [00:19<?, ?it/s]\u001b[A\n",
            "valid:  92%|█████████▏| 94/102 [00:19<00:01,  4.82it/s]\u001b[A\n",
            "epoch:  30%|███       | 3/10 [05:21<12:31, 107.32s/it]\n",
            "train:   0%|          | 0/811 [00:00<?, ?it/s]\u001b[A"
          ],
          "name": "stderr"
        },
        {
          "output_type": "stream",
          "text": [
            "epoch 2  train_loss 0.258370 val_loss 0.458386\n"
          ],
          "name": "stdout"
        },
        {
          "output_type": "stream",
          "text": [
            "\n",
            "train:  12%|█▏        | 100/811 [00:10<01:14,  9.52it/s]\u001b[A\n",
            "train:  25%|██▍       | 200/811 [00:21<01:04,  9.50it/s]\u001b[A\n",
            "train:  37%|███▋      | 300/811 [00:31<00:53,  9.51it/s]\u001b[A\n",
            "train:  49%|████▉     | 400/811 [00:42<00:43,  9.50it/s]\u001b[A\n",
            "train:  62%|██████▏   | 500/811 [00:52<00:32,  9.50it/s]\u001b[A\n",
            "train:  74%|███████▍  | 600/811 [01:03<00:22,  9.49it/s]\u001b[A\n",
            "train:  86%|████████▋ | 700/811 [01:13<00:11,  9.46it/s]\u001b[A\n",
            "train:  99%|█████████▊| 800/811 [01:24<00:01,  9.46it/s]\u001b[A\n",
            "train: 100%|██████████| 811/811 [01:25<00:00,  9.48it/s]\u001b[A\n",
            "valid:   0%|          | 0/102 [00:00<?, ?it/s]\u001b[A\n",
            "valid:   0%|          | 0/102 [00:12<?, ?it/s]\u001b[A\n",
            "valid:  61%|██████    | 62/102 [00:12<00:08,  4.85it/s]\u001b[A\n",
            "valid:  85%|████████▌ | 87/102 [00:17<00:03,  4.85it/s]\u001b[A\n",
            "epoch:  40%|████      | 4/10 [07:08<10:42, 107.08s/it]\n",
            "train:   0%|          | 0/811 [00:00<?, ?it/s]\u001b[A"
          ],
          "name": "stderr"
        },
        {
          "output_type": "stream",
          "text": [
            "epoch 3  train_loss 0.216282 val_loss 0.394293\n"
          ],
          "name": "stdout"
        },
        {
          "output_type": "stream",
          "text": [
            "\n",
            "train:  12%|█▏        | 100/811 [00:10<01:15,  9.44it/s]\u001b[A\n",
            "train:  25%|██▍       | 200/811 [00:21<01:04,  9.44it/s]\u001b[A\n",
            "train:  37%|███▋      | 300/811 [00:31<00:54,  9.45it/s]\u001b[A\n",
            "train:  37%|███▋      | 300/811 [00:41<00:54,  9.45it/s]\u001b[A\n",
            "train:  49%|████▊     | 395/811 [00:41<00:44,  9.42it/s]\u001b[A\n",
            "train:  55%|█████▍    | 443/811 [00:46<00:38,  9.44it/s]\u001b[A\n",
            "train:  60%|██████    | 490/811 [00:51<00:34,  9.43it/s]\u001b[A\n",
            "train:  66%|██████▋   | 538/811 [00:56<00:28,  9.46it/s]\u001b[A\n",
            "train:  72%|███████▏  | 586/811 [01:02<00:23,  9.46it/s]\u001b[A\n",
            "train:  78%|███████▊  | 633/811 [01:07<00:18,  9.42it/s]\u001b[A\n",
            "train:  84%|████████▍ | 681/811 [01:12<00:13,  9.45it/s]\u001b[A\n",
            "train:  90%|████████▉ | 728/811 [01:17<00:08,  9.42it/s]\u001b[A\n",
            "train:  96%|█████████▌| 776/811 [01:22<00:03,  9.43it/s]\u001b[A\n",
            "train: 100%|██████████| 811/811 [01:25<00:00,  9.44it/s]\u001b[A\n",
            "valid:   0%|          | 0/102 [00:00<?, ?it/s]\u001b[A\n",
            "valid:   0%|          | 0/102 [00:15<?, ?it/s]\u001b[A\n",
            "valid:  75%|███████▌  | 77/102 [00:15<00:05,  4.83it/s]\u001b[A\n",
            "valid: 100%|██████████| 102/102 [00:21<00:00,  4.86it/s]\u001b[A\n",
            "epoch:  50%|█████     | 5/10 [08:55<08:55, 107.04s/it]\n",
            "train:   0%|          | 0/811 [00:00<?, ?it/s]\u001b[A"
          ],
          "name": "stderr"
        },
        {
          "output_type": "stream",
          "text": [
            "epoch 4  train_loss 0.189269 val_loss 0.363356\n"
          ],
          "name": "stdout"
        },
        {
          "output_type": "stream",
          "text": [
            "\n",
            "train:  12%|█▏        | 100/811 [00:10<01:16,  9.32it/s]\u001b[A\n",
            "train:  25%|██▍       | 200/811 [00:21<01:05,  9.30it/s]\u001b[A\n",
            "train:  37%|███▋      | 300/811 [00:32<00:54,  9.31it/s]\u001b[A\n",
            "train:  49%|████▉     | 400/811 [00:43<00:44,  9.27it/s]\u001b[A\n",
            "train:  62%|██████▏   | 500/811 [00:53<00:33,  9.31it/s]\u001b[A\n",
            "train:  74%|███████▍  | 600/811 [01:04<00:22,  9.33it/s]\u001b[A\n",
            "train:  74%|███████▍  | 600/811 [01:14<00:22,  9.33it/s]\u001b[A\n",
            "train:  86%|████████▌ | 699/811 [01:15<00:12,  9.33it/s]\u001b[A\n",
            "train:  92%|█████████▏| 746/811 [01:20<00:06,  9.30it/s]\u001b[A\n",
            "train:  98%|█████████▊| 793/811 [01:25<00:01,  9.32it/s]\u001b[A\n",
            "train: 100%|██████████| 811/811 [01:27<00:00,  9.31it/s]\u001b[A\n",
            "valid:   0%|          | 0/102 [00:00<?, ?it/s]\u001b[A\n",
            "valid:   0%|          | 0/102 [00:17<?, ?it/s]\u001b[A\n",
            "valid:  84%|████████▍ | 86/102 [00:17<00:03,  4.79it/s]\u001b[A\n",
            "epoch:  60%|██████    | 6/10 [10:43<07:09, 107.42s/it]\n",
            "train:   0%|          | 0/811 [00:00<?, ?it/s]\u001b[A"
          ],
          "name": "stderr"
        },
        {
          "output_type": "stream",
          "text": [
            "epoch 5  train_loss 0.169074 val_loss 0.316692\n"
          ],
          "name": "stdout"
        },
        {
          "output_type": "stream",
          "text": [
            "\n",
            "train:  12%|█▏        | 100/811 [00:10<01:15,  9.42it/s]\u001b[A\n",
            "train:  25%|██▍       | 200/811 [00:21<01:04,  9.44it/s]\u001b[A\n",
            "train:  37%|███▋      | 300/811 [00:31<00:54,  9.41it/s]\u001b[A\n",
            "train:  49%|████▉     | 400/811 [00:42<00:43,  9.43it/s]\u001b[A\n",
            "train:  62%|██████▏   | 500/811 [00:52<00:32,  9.44it/s]\u001b[A\n",
            "train:  74%|███████▍  | 600/811 [01:03<00:22,  9.39it/s]\u001b[A\n",
            "train:  86%|████████▋ | 700/811 [01:14<00:11,  9.40it/s]\u001b[A\n",
            "train:  99%|█████████▊| 800/811 [01:24<00:01,  9.42it/s]\u001b[A\n",
            "train: 100%|██████████| 811/811 [01:26<00:00,  9.42it/s]\u001b[A\n",
            "valid:   0%|          | 0/102 [00:00<?, ?it/s]\u001b[A\n",
            "valid:   0%|          | 0/102 [00:10<?, ?it/s]\u001b[A\n",
            "valid:  50%|█████     | 51/102 [00:10<00:10,  4.78it/s]\u001b[A\n",
            "valid:  75%|███████▍  | 76/102 [00:15<00:05,  4.79it/s]\u001b[A\n",
            "valid:  99%|█████████▉| 101/102 [00:21<00:00,  4.80it/s]\u001b[A\n",
            "epoch:  70%|███████   | 7/10 [12:30<05:22, 107.37s/it]\n",
            "train:   0%|          | 0/811 [00:00<?, ?it/s]\u001b[A"
          ],
          "name": "stderr"
        },
        {
          "output_type": "stream",
          "text": [
            "epoch 6  train_loss 0.154187 val_loss 0.290622\n"
          ],
          "name": "stdout"
        },
        {
          "output_type": "stream",
          "text": [
            "\n",
            "train:  12%|█▏        | 100/811 [00:10<01:15,  9.48it/s]\u001b[A\n",
            "train:  25%|██▍       | 200/811 [00:21<01:04,  9.43it/s]\u001b[A\n",
            "train:  37%|███▋      | 300/811 [00:31<00:54,  9.43it/s]\u001b[A\n",
            "train:  49%|████▉     | 400/811 [00:42<00:43,  9.39it/s]\u001b[A\n",
            "train:  62%|██████▏   | 500/811 [00:53<00:33,  9.40it/s]\u001b[A\n",
            "train:  74%|███████▍  | 600/811 [01:03<00:22,  9.43it/s]\u001b[A\n",
            "train:  86%|████████▋ | 700/811 [01:14<00:11,  9.43it/s]\u001b[A\n",
            "train:  99%|█████████▊| 800/811 [01:24<00:01,  9.46it/s]\u001b[A\n",
            "train: 100%|██████████| 811/811 [01:26<00:00,  9.43it/s]\u001b[A\n",
            "valid:   0%|          | 0/102 [00:00<?, ?it/s]\u001b[A\n",
            "valid:   0%|          | 0/102 [00:13<?, ?it/s]\u001b[A\n",
            "valid:  65%|██████▍   | 66/102 [00:13<00:07,  4.87it/s]\u001b[A\n",
            "valid:  88%|████████▊ | 90/102 [00:18<00:02,  4.84it/s]\u001b[A\n",
            "epoch:  80%|████████  | 8/10 [14:17<03:34, 107.26s/it]\n",
            "train:   0%|          | 0/811 [00:00<?, ?it/s]\u001b[A"
          ],
          "name": "stderr"
        },
        {
          "output_type": "stream",
          "text": [
            "epoch 7  train_loss 0.141752 val_loss 0.269654\n"
          ],
          "name": "stdout"
        },
        {
          "output_type": "stream",
          "text": [
            "\n",
            "train:  12%|█▏        | 100/811 [00:10<01:16,  9.30it/s]\u001b[A\n",
            "train:  25%|██▍       | 200/811 [00:21<01:05,  9.36it/s]\u001b[A\n",
            "train:  37%|███▋      | 300/811 [00:32<00:54,  9.35it/s]\u001b[A\n",
            "train:  49%|████▉     | 400/811 [00:42<00:43,  9.41it/s]\u001b[A\n",
            "train:  49%|████▉     | 400/811 [00:52<00:43,  9.41it/s]\u001b[A\n",
            "train:  61%|██████▏   | 497/811 [00:52<00:33,  9.45it/s]\u001b[A\n",
            "train:  67%|██████▋   | 544/811 [00:57<00:28,  9.43it/s]\u001b[A\n",
            "train:  73%|███████▎  | 592/811 [01:02<00:23,  9.46it/s]\u001b[A\n",
            "train:  79%|███████▉  | 640/811 [01:07<00:18,  9.48it/s]\u001b[A\n",
            "train:  85%|████████▍ | 688/811 [01:12<00:12,  9.48it/s]\u001b[A\n",
            "train:  91%|█████████ | 736/811 [01:17<00:07,  9.51it/s]\u001b[A\n",
            "train:  97%|█████████▋| 784/811 [01:22<00:02,  9.52it/s]\u001b[A\n",
            "train: 100%|██████████| 811/811 [01:25<00:00,  9.46it/s]\u001b[A\n",
            "valid:   0%|          | 0/102 [00:00<?, ?it/s]\u001b[A\n",
            "valid:   0%|          | 0/102 [00:16<?, ?it/s]\u001b[A\n",
            "valid:  80%|████████  | 82/102 [00:16<00:04,  4.84it/s]\u001b[A\n",
            "epoch:  90%|█████████ | 9/10 [16:04<01:47, 107.06s/it]\n",
            "train:   0%|          | 0/811 [00:00<?, ?it/s]\u001b[A"
          ],
          "name": "stderr"
        },
        {
          "output_type": "stream",
          "text": [
            "epoch 8  train_loss 0.131986 val_loss 0.259571\n"
          ],
          "name": "stdout"
        },
        {
          "output_type": "stream",
          "text": [
            "\n",
            "train:  12%|█▏        | 100/811 [00:10<01:15,  9.46it/s]\u001b[A\n",
            "train:  25%|██▍       | 200/811 [00:21<01:04,  9.46it/s]\u001b[A\n",
            "train:  37%|███▋      | 300/811 [00:31<00:53,  9.48it/s]\u001b[A\n",
            "train:  49%|████▉     | 400/811 [00:42<00:43,  9.44it/s]\u001b[A\n",
            "train:  62%|██████▏   | 500/811 [00:52<00:32,  9.44it/s]\u001b[A\n",
            "train:  74%|███████▍  | 600/811 [01:03<00:22,  9.44it/s]\u001b[A\n",
            "train:  86%|████████▋ | 700/811 [01:14<00:11,  9.40it/s]\u001b[A\n",
            "train:  99%|█████████▊| 800/811 [01:24<00:01,  9.41it/s]\u001b[A\n",
            "train: 100%|██████████| 811/811 [01:26<00:00,  9.43it/s]\u001b[A\n",
            "valid:   0%|          | 0/102 [00:00<?, ?it/s]\u001b[A\n",
            "valid:   0%|          | 0/102 [00:19<?, ?it/s]\u001b[A\n",
            "valid:  95%|█████████▌| 97/102 [00:20<00:01,  4.84it/s]\u001b[A\n",
            "epoch: 100%|██████████| 10/10 [17:51<00:00, 107.05s/it]"
          ],
          "name": "stderr"
        },
        {
          "output_type": "stream",
          "text": [
            "epoch 9  train_loss 0.124371 val_loss 0.240409\n"
          ],
          "name": "stdout"
        },
        {
          "output_type": "stream",
          "text": [
            "\n"
          ],
          "name": "stderr"
        }
      ]
    },
    {
      "cell_type": "code",
      "metadata": {
        "id": "ST-6IVhiJJ-P",
        "colab_type": "code",
        "colab": {}
      },
      "source": [
        ""
      ],
      "execution_count": 0,
      "outputs": []
    }
  ]
}